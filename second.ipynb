{
 "cells": [
  {
   "cell_type": "code",
   "execution_count": 1,
   "metadata": {},
   "outputs": [
    {
     "name": "stdout",
     "output_type": "stream",
     "text": [
      "heyyy guyssss, welcome to my youtube channell. Today we're learning coding.\n"
     ]
    }
   ],
   "source": [
    "print(\"heyyy guyssss, welcome to my youtube channell. Today we're learning coding.\")"
   ]
  },
  {
   "cell_type": "code",
   "execution_count": 2,
   "metadata": {},
   "outputs": [
    {
     "name": "stdout",
     "output_type": "stream",
     "text": [
      "You need to get a TV to watch movies. Thank you\n"
     ]
    }
   ],
   "source": [
    "def ne_func(a,b):\n",
    "    print(\"You need to get a {} to {}. Thank you\".format(a,b))\n",
    "a = input(\"Please enter an object:\")\n",
    "b = input(\"Please enter an activity the object is used to perform\")\n",
    "ne_func(a,b)    "
   ]
  },
  {
   "cell_type": "code",
   "execution_count": null,
   "metadata": {},
   "outputs": [],
   "source": []
  }
 ],
 "metadata": {
  "kernelspec": {
   "display_name": "Python 3",
   "language": "python",
   "name": "python3"
  },
  "language_info": {
   "codemirror_mode": {
    "name": "ipython",
    "version": 3
   },
   "file_extension": ".py",
   "mimetype": "text/x-python",
   "name": "python",
   "nbconvert_exporter": "python",
   "pygments_lexer": "ipython3",
   "version": "3.10.11"
  },
  "orig_nbformat": 4
 },
 "nbformat": 4,
 "nbformat_minor": 2
}
